{
 "cells": [
  {
   "cell_type": "markdown",
   "metadata": {},
   "source": [
    "#### https://www.kaggle.com/datasets/ruchi798/data-science-job-salaries\n",
    "\n",
    "Download dataset from above link, you will predict salaries for Data Science Roles\n"
   ]
  },
  {
   "cell_type": "markdown",
   "metadata": {},
   "source": [
    "Column\t: Description\n",
    "\n",
    "work_year :        The year the salary was paid.\n",
    "\n",
    "experience_level : The experience level in the job during the year with the following possible values: EN Entry-level / Junior MI Mid-level / Intermediate SE Senior-level / Expert EX Executive-level / Director\n",
    "\n",
    "employment_type\t:  The type of employement for the role: PT Part-time FT Full-time CT Contract FL Freelance\n",
    "job_title\tThe role worked in during the year.\n",
    "\n",
    "salary\t:          The total gross salary amount paid.\n",
    "salary_currency\t: The currency of the salary paid as an ISO 4217 currency code.\n",
    "\n",
    "salaryinusd\t: The salary in USD (FX rate divided by avg. USD rate for the respective year via fxdata.foorilla.com).\n",
    "\n",
    "employee_residence\t: Employee's primary country of residence in during the work year as an ISO 3166 country code.\n",
    "\n",
    "remote_ratio\t: The overall amount of work done remotely, possible values are as follows: 0 No remote work (less than 20%) 50 Partially remote 100 Fully remote (more than 80%)\n",
    "\n",
    "company_location\t: The country of the employer's main office or contracting branch as an ISO 3166 country code.\n",
    "\n",
    "company_size\t: The average number of people that worked for the company during the year: S less than 50 employees (small) M 50 to 250 employees (medium) L more than 250 employees (large)"
   ]
  },
  {
   "cell_type": "markdown",
   "metadata": {},
   "source": [
    "# Regression Assignment "
   ]
  },
  {
   "cell_type": "code",
   "execution_count": 1,
   "metadata": {},
   "outputs": [],
   "source": [
    "#import libraries\n",
    "\n",
    "import numpy as np\n",
    "import pandas as pd\n",
    "import matplotlib.pyplot as plt\n",
    "import seaborn as sns\n",
    "from sklearn.preprocessing import LabelEncoder\n",
    "from sklearn.model_selection import train_test_split \n",
    "#import statsmodels.api as sm\n",
    "from statsmodels.stats.outliers_influence import variance_inflation_factor\n",
    "from sklearn.linear_model import *\n",
    "from sklearn.metrics import r2_score\n",
    "import warnings \n",
    "warnings.filterwarnings('ignore')"
   ]
  },
  {
   "cell_type": "code",
   "execution_count": 2,
   "metadata": {},
   "outputs": [],
   "source": [
    "df = pd.read_csv('ds_salaries.csv')"
   ]
  },
  {
   "cell_type": "code",
   "execution_count": 3,
   "metadata": {},
   "outputs": [
    {
     "data": {
      "text/html": [
       "<div>\n",
       "<style scoped>\n",
       "    .dataframe tbody tr th:only-of-type {\n",
       "        vertical-align: middle;\n",
       "    }\n",
       "\n",
       "    .dataframe tbody tr th {\n",
       "        vertical-align: top;\n",
       "    }\n",
       "\n",
       "    .dataframe thead th {\n",
       "        text-align: right;\n",
       "    }\n",
       "</style>\n",
       "<table border=\"1\" class=\"dataframe\">\n",
       "  <thead>\n",
       "    <tr style=\"text-align: right;\">\n",
       "      <th></th>\n",
       "      <th>Unnamed: 0</th>\n",
       "      <th>work_year</th>\n",
       "      <th>experience_level</th>\n",
       "      <th>employment_type</th>\n",
       "      <th>job_title</th>\n",
       "      <th>salary</th>\n",
       "      <th>salary_currency</th>\n",
       "      <th>salary_in_usd</th>\n",
       "      <th>employee_residence</th>\n",
       "      <th>remote_ratio</th>\n",
       "      <th>company_location</th>\n",
       "      <th>company_size</th>\n",
       "    </tr>\n",
       "  </thead>\n",
       "  <tbody>\n",
       "    <tr>\n",
       "      <th>0</th>\n",
       "      <td>0</td>\n",
       "      <td>2020</td>\n",
       "      <td>MI</td>\n",
       "      <td>FT</td>\n",
       "      <td>Data Scientist</td>\n",
       "      <td>70000</td>\n",
       "      <td>EUR</td>\n",
       "      <td>79833</td>\n",
       "      <td>DE</td>\n",
       "      <td>0</td>\n",
       "      <td>DE</td>\n",
       "      <td>L</td>\n",
       "    </tr>\n",
       "    <tr>\n",
       "      <th>1</th>\n",
       "      <td>1</td>\n",
       "      <td>2020</td>\n",
       "      <td>SE</td>\n",
       "      <td>FT</td>\n",
       "      <td>Machine Learning Scientist</td>\n",
       "      <td>260000</td>\n",
       "      <td>USD</td>\n",
       "      <td>260000</td>\n",
       "      <td>JP</td>\n",
       "      <td>0</td>\n",
       "      <td>JP</td>\n",
       "      <td>S</td>\n",
       "    </tr>\n",
       "    <tr>\n",
       "      <th>2</th>\n",
       "      <td>2</td>\n",
       "      <td>2020</td>\n",
       "      <td>SE</td>\n",
       "      <td>FT</td>\n",
       "      <td>Big Data Engineer</td>\n",
       "      <td>85000</td>\n",
       "      <td>GBP</td>\n",
       "      <td>109024</td>\n",
       "      <td>GB</td>\n",
       "      <td>50</td>\n",
       "      <td>GB</td>\n",
       "      <td>M</td>\n",
       "    </tr>\n",
       "    <tr>\n",
       "      <th>3</th>\n",
       "      <td>3</td>\n",
       "      <td>2020</td>\n",
       "      <td>MI</td>\n",
       "      <td>FT</td>\n",
       "      <td>Product Data Analyst</td>\n",
       "      <td>20000</td>\n",
       "      <td>USD</td>\n",
       "      <td>20000</td>\n",
       "      <td>HN</td>\n",
       "      <td>0</td>\n",
       "      <td>HN</td>\n",
       "      <td>S</td>\n",
       "    </tr>\n",
       "    <tr>\n",
       "      <th>4</th>\n",
       "      <td>4</td>\n",
       "      <td>2020</td>\n",
       "      <td>SE</td>\n",
       "      <td>FT</td>\n",
       "      <td>Machine Learning Engineer</td>\n",
       "      <td>150000</td>\n",
       "      <td>USD</td>\n",
       "      <td>150000</td>\n",
       "      <td>US</td>\n",
       "      <td>50</td>\n",
       "      <td>US</td>\n",
       "      <td>L</td>\n",
       "    </tr>\n",
       "  </tbody>\n",
       "</table>\n",
       "</div>"
      ],
      "text/plain": [
       "   Unnamed: 0  work_year experience_level employment_type  \\\n",
       "0           0       2020               MI              FT   \n",
       "1           1       2020               SE              FT   \n",
       "2           2       2020               SE              FT   \n",
       "3           3       2020               MI              FT   \n",
       "4           4       2020               SE              FT   \n",
       "\n",
       "                    job_title  salary salary_currency  salary_in_usd  \\\n",
       "0              Data Scientist   70000             EUR          79833   \n",
       "1  Machine Learning Scientist  260000             USD         260000   \n",
       "2           Big Data Engineer   85000             GBP         109024   \n",
       "3        Product Data Analyst   20000             USD          20000   \n",
       "4   Machine Learning Engineer  150000             USD         150000   \n",
       "\n",
       "  employee_residence  remote_ratio company_location company_size  \n",
       "0                 DE             0               DE            L  \n",
       "1                 JP             0               JP            S  \n",
       "2                 GB            50               GB            M  \n",
       "3                 HN             0               HN            S  \n",
       "4                 US            50               US            L  "
      ]
     },
     "execution_count": 3,
     "metadata": {},
     "output_type": "execute_result"
    }
   ],
   "source": [
    "df.head()"
   ]
  },
  {
   "cell_type": "markdown",
   "metadata": {},
   "source": [
    "### Data understanding"
   ]
  },
  {
   "cell_type": "code",
   "execution_count": 4,
   "metadata": {},
   "outputs": [
    {
     "data": {
      "text/plain": [
       "(607, 12)"
      ]
     },
     "execution_count": 4,
     "metadata": {},
     "output_type": "execute_result"
    }
   ],
   "source": [
    "df.shape"
   ]
  },
  {
   "cell_type": "code",
   "execution_count": 5,
   "metadata": {},
   "outputs": [
    {
     "name": "stdout",
     "output_type": "stream",
     "text": [
      "<class 'pandas.core.frame.DataFrame'>\n",
      "RangeIndex: 607 entries, 0 to 606\n",
      "Data columns (total 12 columns):\n",
      " #   Column              Non-Null Count  Dtype \n",
      "---  ------              --------------  ----- \n",
      " 0   Unnamed: 0          607 non-null    int64 \n",
      " 1   work_year           607 non-null    int64 \n",
      " 2   experience_level    607 non-null    object\n",
      " 3   employment_type     607 non-null    object\n",
      " 4   job_title           607 non-null    object\n",
      " 5   salary              607 non-null    int64 \n",
      " 6   salary_currency     607 non-null    object\n",
      " 7   salary_in_usd       607 non-null    int64 \n",
      " 8   employee_residence  607 non-null    object\n",
      " 9   remote_ratio        607 non-null    int64 \n",
      " 10  company_location    607 non-null    object\n",
      " 11  company_size        607 non-null    object\n",
      "dtypes: int64(5), object(7)\n",
      "memory usage: 57.0+ KB\n"
     ]
    }
   ],
   "source": [
    "df.info()"
   ]
  },
  {
   "cell_type": "markdown",
   "metadata": {},
   "source": [
    "#### Data Cleaning if required"
   ]
  },
  {
   "cell_type": "code",
   "execution_count": 6,
   "metadata": {},
   "outputs": [
    {
     "data": {
      "text/plain": [
       "Unnamed: 0            0\n",
       "work_year             0\n",
       "experience_level      0\n",
       "employment_type       0\n",
       "job_title             0\n",
       "salary                0\n",
       "salary_currency       0\n",
       "salary_in_usd         0\n",
       "employee_residence    0\n",
       "remote_ratio          0\n",
       "company_location      0\n",
       "company_size          0\n",
       "dtype: int64"
      ]
     },
     "execution_count": 6,
     "metadata": {},
     "output_type": "execute_result"
    }
   ],
   "source": [
    "df.isnull().sum()"
   ]
  },
  {
   "cell_type": "code",
   "execution_count": 7,
   "metadata": {
    "scrolled": true
   },
   "outputs": [
    {
     "data": {
      "text/plain": [
       "Unnamed: 0            100.000000\n",
       "work_year               0.494234\n",
       "experience_level        0.658979\n",
       "employment_type         0.658979\n",
       "job_title               8.237232\n",
       "salary                 44.810544\n",
       "salary_currency         2.800659\n",
       "salary_in_usd          60.790774\n",
       "employee_residence      9.390445\n",
       "remote_ratio            0.494234\n",
       "company_location        8.237232\n",
       "company_size            0.494234\n",
       "dtype: float64"
      ]
     },
     "execution_count": 7,
     "metadata": {},
     "output_type": "execute_result"
    }
   ],
   "source": [
    "df.nunique()/df.shape[0]*100"
   ]
  },
  {
   "cell_type": "code",
   "execution_count": 8,
   "metadata": {},
   "outputs": [],
   "source": [
    "df.drop('Unnamed: 0',inplace=True,axis=1)"
   ]
  },
  {
   "cell_type": "markdown",
   "metadata": {},
   "source": [
    "# EDA "
   ]
  },
  {
   "cell_type": "markdown",
   "metadata": {},
   "source": [
    "### univarite"
   ]
  },
  {
   "cell_type": "code",
   "execution_count": 9,
   "metadata": {},
   "outputs": [],
   "source": [
    "num_cols = []\n",
    "cat_cols = []\n",
    "for i in df.columns:\n",
    "    if df[i].dtype == 'O':\n",
    "        cat_cols.append(i)\n",
    "    else:\n",
    "        num_cols.append(i)\n"
   ]
  },
  {
   "cell_type": "code",
   "execution_count": 10,
   "metadata": {},
   "outputs": [
    {
     "data": {
      "text/plain": [
       "['work_year', 'salary', 'salary_in_usd', 'remote_ratio']"
      ]
     },
     "execution_count": 10,
     "metadata": {},
     "output_type": "execute_result"
    }
   ],
   "source": [
    "num_cols"
   ]
  },
  {
   "cell_type": "code",
   "execution_count": 11,
   "metadata": {},
   "outputs": [
    {
     "name": "stdout",
     "output_type": "stream",
     "text": [
      "=========== work_year =============\n",
      "mean :  2021.4052718286655\n",
      "median :  2022.0\n",
      "mode :  2022\n"
     ]
    },
    {
     "data": {
      "image/png": "[encoded data removed]",
      "text/plain": [
       "<Figure size 432x288 with 1 Axes>"
      ]
     },
     "metadata": {
      "needs_background": "light"
     },
     "output_type": "display_data"
    },
    {
     "name": "stdout",
     "output_type": "stream",
     "text": [
      "=========== salary =============\n",
      "mean :  324000.0626029654\n",
      "median :  115000.0\n",
      "mode :  80000\n"
     ]
    },
    {
     "data": {
      "image/png": "[encoded data removed]",
      "text/plain": [
       "<Figure size 360x360 with 1 Axes>"
      ]
     },
     "metadata": {
      "needs_background": "light"
     },
     "output_type": "display_data"
    },
    {
     "name": "stdout",
     "output_type": "stream",
     "text": [
      "=========== salary_in_usd =============\n",
      "mean :  112297.86985172982\n",
      "median :  101570.0\n",
      "mode :  100000\n"
     ]
    },
    {
     "data": {
      "image/png": "[encoded data removed]",
      "text/plain": [
       "<Figure size 360x360 with 1 Axes>"
      ]
     },
     "metadata": {
      "needs_background": "light"
     },
     "output_type": "display_data"
    },
    {
     "name": "stdout",
     "output_type": "stream",
     "text": [
      "=========== remote_ratio =============\n",
      "mean :  70.92257001647447\n",
      "median :  100.0\n",
      "mode :  100\n"
     ]
    },
    {
     "data": {
      "image/png": "[encoded data removed]",
      "text/plain": [
       "<Figure size 432x288 with 1 Axes>"
      ]
     },
     "metadata": {
      "needs_background": "light"
     },
     "output_type": "display_data"
    }
   ],
   "source": [
    "for i in num_cols:\n",
    "    print('===========',i,'=============')\n",
    "    print('mean : ',df[i].mean())\n",
    "    print('median : ',df[i].median())\n",
    "    print('mode : ',df[i].mode()[0])\n",
    "    if df[i].value_counts().count() > 10:\n",
    "        sns.displot(x=df[i])\n",
    "        #plt.hist(df[i],bins=10)\n",
    "        plt.xlabel(i)\n",
    "        if i == 'salary':\n",
    "            plt.xlim(0,3000000)\n",
    "        plt.show()\n",
    "    else:\n",
    "        df[i].value_counts().plot(kind='bar')\n",
    "        plt.xlabel(i)\n",
    "        plt.show()"
   ]
  },
  {
   "cell_type": "code",
   "execution_count": 12,
   "metadata": {},
   "outputs": [
    {
     "data": {
      "text/html": [
       "<div>\n",
       "<style scoped>\n",
       "    .dataframe tbody tr th:only-of-type {\n",
       "        vertical-align: middle;\n",
       "    }\n",
       "\n",
       "    .dataframe tbody tr th {\n",
       "        vertical-align: top;\n",
       "    }\n",
       "\n",
       "    .dataframe thead th {\n",
       "        text-align: right;\n",
       "    }\n",
       "</style>\n",
       "<table border=\"1\" class=\"dataframe\">\n",
       "  <thead>\n",
       "    <tr style=\"text-align: right;\">\n",
       "      <th></th>\n",
       "      <th>work_year</th>\n",
       "      <th>salary</th>\n",
       "      <th>salary_in_usd</th>\n",
       "      <th>remote_ratio</th>\n",
       "    </tr>\n",
       "  </thead>\n",
       "  <tbody>\n",
       "    <tr>\n",
       "      <th>count</th>\n",
       "      <td>607.000000</td>\n",
       "      <td>6.070000e+02</td>\n",
       "      <td>607.000000</td>\n",
       "      <td>607.00000</td>\n",
       "    </tr>\n",
       "    <tr>\n",
       "      <th>mean</th>\n",
       "      <td>2021.405272</td>\n",
       "      <td>3.240001e+05</td>\n",
       "      <td>112297.869852</td>\n",
       "      <td>70.92257</td>\n",
       "    </tr>\n",
       "    <tr>\n",
       "      <th>std</th>\n",
       "      <td>0.692133</td>\n",
       "      <td>1.544357e+06</td>\n",
       "      <td>70957.259411</td>\n",
       "      <td>40.70913</td>\n",
       "    </tr>\n",
       "    <tr>\n",
       "      <th>min</th>\n",
       "      <td>2020.000000</td>\n",
       "      <td>4.000000e+03</td>\n",
       "      <td>2859.000000</td>\n",
       "      <td>0.00000</td>\n",
       "    </tr>\n",
       "    <tr>\n",
       "      <th>25%</th>\n",
       "      <td>2021.000000</td>\n",
       "      <td>7.000000e+04</td>\n",
       "      <td>62726.000000</td>\n",
       "      <td>50.00000</td>\n",
       "    </tr>\n",
       "    <tr>\n",
       "      <th>50%</th>\n",
       "      <td>2022.000000</td>\n",
       "      <td>1.150000e+05</td>\n",
       "      <td>101570.000000</td>\n",
       "      <td>100.00000</td>\n",
       "    </tr>\n",
       "    <tr>\n",
       "      <th>75%</th>\n",
       "      <td>2022.000000</td>\n",
       "      <td>1.650000e+05</td>\n",
       "      <td>150000.000000</td>\n",
       "      <td>100.00000</td>\n",
       "    </tr>\n",
       "    <tr>\n",
       "      <th>max</th>\n",
       "      <td>2022.000000</td>\n",
       "      <td>3.040000e+07</td>\n",
       "      <td>600000.000000</td>\n",
       "      <td>100.00000</td>\n",
       "    </tr>\n",
       "  </tbody>\n",
       "</table>\n",
       "</div>"
      ],
      "text/plain": [
       "         work_year        salary  salary_in_usd  remote_ratio\n",
       "count   607.000000  6.070000e+02     607.000000     607.00000\n",
       "mean   2021.405272  3.240001e+05  112297.869852      70.92257\n",
       "std       0.692133  1.544357e+06   70957.259411      40.70913\n",
       "min    2020.000000  4.000000e+03    2859.000000       0.00000\n",
       "25%    2021.000000  7.000000e+04   62726.000000      50.00000\n",
       "50%    2022.000000  1.150000e+05  101570.000000     100.00000\n",
       "75%    2022.000000  1.650000e+05  150000.000000     100.00000\n",
       "max    2022.000000  3.040000e+07  600000.000000     100.00000"
      ]
     },
     "execution_count": 12,
     "metadata": {},
     "output_type": "execute_result"
    }
   ],
   "source": [
    "df[num_cols].describe()"
   ]
  },
  {
   "cell_type": "markdown",
   "metadata": {},
   "source": [
    "* The dataset comprise of salaries from the year 2020 to 2022\n",
    "* the salaries of average salaries ranges from 7e+04 to 1.15e+05 \n",
    "* maximum employees work remotely "
   ]
  },
  {
   "cell_type": "code",
   "execution_count": 13,
   "metadata": {},
   "outputs": [],
   "source": [
    "# employee residence\n",
    "least_places = list(df['employee_residence'].value_counts().tail(28).keys())\n",
    "df['employee_residence'] = np.where(df['employee_residence'].isin(least_places),'other', df['employee_residence'])\n",
    "\n",
    "# company location\n",
    "loc = list(df['company_location'].value_counts().tail(21).keys())\n",
    "df['company_location'] = np.where(df['company_location'].isin(loc), 'other', df['company_location'])\n"
   ]
  },
  {
   "cell_type": "code",
   "execution_count": 14,
   "metadata": {
    "scrolled": true
   },
   "outputs": [
    {
     "name": "stdout",
     "output_type": "stream",
     "text": [
      "=========== experience_level =========\n",
      "SE    46.128501\n",
      "MI    35.090610\n",
      "EN    14.497529\n",
      "EX     4.283361\n",
      "Name: experience_level, dtype: float64\n"
     ]
    },
    {
     "data": {
      "image/png": "[encoded data removed]",
      "text/plain": [
       "<Figure size 432x288 with 1 Axes>"
      ]
     },
     "metadata": {
      "needs_background": "light"
     },
     "output_type": "display_data"
    },
    {
     "name": "stdout",
     "output_type": "stream",
     "text": [
      "=========== employment_type =========\n",
      "FT    96.869852\n",
      "PT     1.647446\n",
      "CT     0.823723\n",
      "FL     0.658979\n",
      "Name: employment_type, dtype: float64\n"
     ]
    },
    {
     "data": {
      "image/png": "[encoded data removed]",
      "text/plain": [
       "<Figure size 432x288 with 1 Axes>"
      ]
     },
     "metadata": {
      "needs_background": "light"
     },
     "output_type": "display_data"
    },
    {
     "name": "stdout",
     "output_type": "stream",
     "text": [
      "=========== job_title =========\n",
      "Data Scientist                              23.558484\n",
      "Data Engineer                               21.746293\n",
      "Data Analyst                                15.980231\n",
      "Machine Learning Engineer                    6.754530\n",
      "Research Scientist                           2.635914\n",
      "Data Science Manager                         1.976936\n",
      "Data Architect                               1.812191\n",
      "Machine Learning Scientist                   1.317957\n",
      "Big Data Engineer                            1.317957\n",
      "Data Analytics Manager                       1.153213\n",
      "Data Science Consultant                      1.153213\n",
      "Principal Data Scientist                     1.153213\n",
      "Director of Data Science                     1.153213\n",
      "AI Scientist                                 1.153213\n",
      "Computer Vision Engineer                     0.988468\n",
      "Lead Data Engineer                           0.988468\n",
      "BI Data Analyst                              0.988468\n",
      "ML Engineer                                  0.988468\n",
      "Head of Data                                 0.823723\n",
      "Business Data Analyst                        0.823723\n",
      "Data Engineering Manager                     0.823723\n",
      "Applied Data Scientist                       0.823723\n",
      "Head of Data Science                         0.658979\n",
      "Applied Machine Learning Scientist           0.658979\n",
      "Analytics Engineer                           0.658979\n",
      "Data Analytics Engineer                      0.658979\n",
      "Machine Learning Infrastructure Engineer     0.494234\n",
      "Lead Data Analyst                            0.494234\n",
      "Lead Data Scientist                          0.494234\n",
      "Principal Data Engineer                      0.494234\n",
      "Data Science Engineer                        0.494234\n",
      "Computer Vision Software Engineer            0.494234\n",
      "Machine Learning Developer                   0.494234\n",
      "Director of Data Engineering                 0.329489\n",
      "Product Data Analyst                         0.329489\n",
      "ETL Developer                                0.329489\n",
      "Cloud Data Engineer                          0.329489\n",
      "Financial Data Analyst                       0.329489\n",
      "Principal Data Analyst                       0.329489\n",
      "Marketing Data Analyst                       0.164745\n",
      "Data Specialist                              0.164745\n",
      "Data Analytics Lead                          0.164745\n",
      "3D Computer Vision Researcher                0.164745\n",
      "Lead Machine Learning Engineer               0.164745\n",
      "Staff Data Scientist                         0.164745\n",
      "Big Data Architect                           0.164745\n",
      "Machine Learning Manager                     0.164745\n",
      "Finance Data Analyst                         0.164745\n",
      "Head of Machine Learning                     0.164745\n",
      "NLP Engineer                                 0.164745\n",
      "Name: job_title, dtype: float64\n"
     ]
    },
    {
     "data": {
      "image/png": "[encoded data removed]",
      "text/plain": [
       "<Figure size 432x288 with 1 Axes>"
      ]
     },
     "metadata": {
      "needs_background": "light"
     },
     "output_type": "display_data"
    },
    {
     "name": "stdout",
     "output_type": "stream",
     "text": [
      "=========== salary_currency =========\n",
      "USD    65.568369\n",
      "EUR    15.650741\n",
      "GBP     7.248764\n",
      "INR     4.448105\n",
      "CAD     2.965404\n",
      "PLN     0.494234\n",
      "JPY     0.494234\n",
      "TRY     0.494234\n",
      "AUD     0.329489\n",
      "BRL     0.329489\n",
      "MXN     0.329489\n",
      "SGD     0.329489\n",
      "CNY     0.329489\n",
      "DKK     0.329489\n",
      "HUF     0.329489\n",
      "CLP     0.164745\n",
      "CHF     0.164745\n",
      "Name: salary_currency, dtype: float64\n"
     ]
    },
    {
     "data": {
      "image/png": "[encoded data removed]",
      "text/plain": [
       "<Figure size 432x288 with 1 Axes>"
      ]
     },
     "metadata": {
      "needs_background": "light"
     },
     "output_type": "display_data"
    },
    {
     "name": "stdout",
     "output_type": "stream",
     "text": [
      "=========== employee_residence =========\n",
      "US       54.695222\n",
      "GB        7.248764\n",
      "IN        4.942339\n",
      "CA        4.777595\n",
      "other     4.612850\n",
      "DE        4.118616\n",
      "FR        2.965404\n",
      "ES        2.471170\n",
      "GR        2.141680\n",
      "JP        1.153213\n",
      "BR        0.988468\n",
      "PK        0.988468\n",
      "PT        0.988468\n",
      "NL        0.823723\n",
      "PL        0.658979\n",
      "RU        0.658979\n",
      "IT        0.658979\n",
      "AU        0.494234\n",
      "VN        0.494234\n",
      "TR        0.494234\n",
      "AE        0.494234\n",
      "AT        0.494234\n",
      "DK        0.329489\n",
      "SG        0.329489\n",
      "BE        0.329489\n",
      "RO        0.329489\n",
      "NG        0.329489\n",
      "MX        0.329489\n",
      "HU        0.329489\n",
      "SI        0.329489\n",
      "Name: employee_residence, dtype: float64\n"
     ]
    },
    {
     "data": {
      "image/png": "[encoded data removed]",
      "text/plain": [
       "<Figure size 432x288 with 1 Axes>"
      ]
     },
     "metadata": {
      "needs_background": "light"
     },
     "output_type": "display_data"
    },
    {
     "name": "stdout",
     "output_type": "stream",
     "text": [
      "=========== company_location =========\n",
      "US       58.484349\n",
      "GB        7.742998\n",
      "CA        4.942339\n",
      "DE        4.612850\n",
      "IN        3.953871\n",
      "other     3.459638\n",
      "FR        2.471170\n",
      "ES        2.306425\n",
      "GR        1.812191\n",
      "JP        0.988468\n",
      "PL        0.658979\n",
      "AT        0.658979\n",
      "NL        0.658979\n",
      "PT        0.658979\n",
      "DK        0.494234\n",
      "AE        0.494234\n",
      "MX        0.494234\n",
      "AU        0.494234\n",
      "BR        0.494234\n",
      "TR        0.494234\n",
      "LU        0.494234\n",
      "PK        0.494234\n",
      "CH        0.329489\n",
      "SI        0.329489\n",
      "NG        0.329489\n",
      "RU        0.329489\n",
      "CN        0.329489\n",
      "BE        0.329489\n",
      "IT        0.329489\n",
      "CZ        0.329489\n",
      "Name: company_location, dtype: float64\n"
     ]
    },
    {
     "data": {
      "image/png": "[encoded data removed]",
      "text/plain": [
       "<Figure size 432x288 with 1 Axes>"
      ]
     },
     "metadata": {
      "needs_background": "light"
     },
     "output_type": "display_data"
    },
    {
     "name": "stdout",
     "output_type": "stream",
     "text": [
      "=========== company_size =========\n",
      "M    53.706755\n",
      "L    32.619440\n",
      "S    13.673806\n",
      "Name: company_size, dtype: float64\n"
     ]
    },
    {
     "data": {
      "image/png": "[encoded data removed]",
      "text/plain": [
       "<Figure size 432x288 with 1 Axes>"
      ]
     },
     "metadata": {
      "needs_background": "light"
     },
     "output_type": "display_data"
    }
   ],
   "source": [
    "for i in cat_cols:\n",
    "    print('===========',i,'=========')\n",
    "    a = df[i].value_counts()\n",
    "    print(a/df.shape[0]*100)\n",
    "    sns.barplot(x=a.index,y=a)\n",
    "    plt.xlabel(i)\n",
    "    plt.ylabel('count')\n",
    "    plt.show()"
   ]
  },
  {
   "cell_type": "markdown",
   "metadata": {},
   "source": [
    "* There are more senior employees and the number of new entries are quite less whwn compared to senior level employes"
   ]
  },
  {
   "cell_type": "code",
   "execution_count": 15,
   "metadata": {},
   "outputs": [],
   "source": [
    "df.drop(['employment_type','salary_currency','salary'],inplace=True,axis=1)"
   ]
  },
  {
   "cell_type": "markdown",
   "metadata": {},
   "source": [
    "### bivarite"
   ]
  },
  {
   "cell_type": "code",
   "execution_count": 16,
   "metadata": {},
   "outputs": [],
   "source": [
    "#numerical - numerical bivariate analysis"
   ]
  },
  {
   "cell_type": "code",
   "execution_count": 17,
   "metadata": {},
   "outputs": [
    {
     "data": {
      "text/html": [
       "<div>\n",
       "<style scoped>\n",
       "    .dataframe tbody tr th:only-of-type {\n",
       "        vertical-align: middle;\n",
       "    }\n",
       "\n",
       "    .dataframe tbody tr th {\n",
       "        vertical-align: top;\n",
       "    }\n",
       "\n",
       "    .dataframe thead th {\n",
       "        text-align: right;\n",
       "    }\n",
       "</style>\n",
       "<table border=\"1\" class=\"dataframe\">\n",
       "  <thead>\n",
       "    <tr style=\"text-align: right;\">\n",
       "      <th></th>\n",
       "      <th>work_year</th>\n",
       "      <th>salary_in_usd</th>\n",
       "      <th>remote_ratio</th>\n",
       "    </tr>\n",
       "  </thead>\n",
       "  <tbody>\n",
       "    <tr>\n",
       "      <th>work_year</th>\n",
       "      <td>1.000000</td>\n",
       "      <td>0.170493</td>\n",
       "      <td>0.076314</td>\n",
       "    </tr>\n",
       "    <tr>\n",
       "      <th>salary_in_usd</th>\n",
       "      <td>0.170493</td>\n",
       "      <td>1.000000</td>\n",
       "      <td>0.132122</td>\n",
       "    </tr>\n",
       "    <tr>\n",
       "      <th>remote_ratio</th>\n",
       "      <td>0.076314</td>\n",
       "      <td>0.132122</td>\n",
       "      <td>1.000000</td>\n",
       "    </tr>\n",
       "  </tbody>\n",
       "</table>\n",
       "</div>"
      ],
      "text/plain": [
       "               work_year  salary_in_usd  remote_ratio\n",
       "work_year       1.000000       0.170493      0.076314\n",
       "salary_in_usd   0.170493       1.000000      0.132122\n",
       "remote_ratio    0.076314       0.132122      1.000000"
      ]
     },
     "execution_count": 17,
     "metadata": {},
     "output_type": "execute_result"
    }
   ],
   "source": [
    "df.corr()"
   ]
  },
  {
   "cell_type": "code",
   "execution_count": 18,
   "metadata": {},
   "outputs": [
    {
     "data": {
      "text/plain": [
       "<AxesSubplot:>"
      ]
     },
     "execution_count": 18,
     "metadata": {},
     "output_type": "execute_result"
    },
    {
     "data": {
      "image/png": "[encoded data removed]",
      "text/plain": [
       "<Figure size 432x288 with 2 Axes>"
      ]
     },
     "metadata": {
      "needs_background": "light"
     },
     "output_type": "display_data"
    }
   ],
   "source": [
    "sns.heatmap(df.corr(),annot=True,cmap=plt.cm.Blues)"
   ]
  },
  {
   "cell_type": "code",
   "execution_count": 19,
   "metadata": {},
   "outputs": [],
   "source": [
    "# categorical - categorical bivariate analysis"
   ]
  },
  {
   "cell_type": "code",
   "execution_count": 20,
   "metadata": {},
   "outputs": [
    {
     "data": {
      "text/html": [
       "<div>\n",
       "<style scoped>\n",
       "    .dataframe tbody tr th:only-of-type {\n",
       "        vertical-align: middle;\n",
       "    }\n",
       "\n",
       "    .dataframe tbody tr th {\n",
       "        vertical-align: top;\n",
       "    }\n",
       "\n",
       "    .dataframe thead th {\n",
       "        text-align: right;\n",
       "    }\n",
       "</style>\n",
       "<table border=\"1\" class=\"dataframe\">\n",
       "  <thead>\n",
       "    <tr style=\"text-align: right;\">\n",
       "      <th></th>\n",
       "      <th></th>\n",
       "      <th>job_title</th>\n",
       "    </tr>\n",
       "    <tr>\n",
       "      <th>experience_level</th>\n",
       "      <th>company_size</th>\n",
       "      <th></th>\n",
       "    </tr>\n",
       "  </thead>\n",
       "  <tbody>\n",
       "    <tr>\n",
       "      <th>SE</th>\n",
       "      <th>M</th>\n",
       "      <td>186</td>\n",
       "    </tr>\n",
       "    <tr>\n",
       "      <th rowspan=\"2\" valign=\"top\">MI</th>\n",
       "      <th>M</th>\n",
       "      <td>98</td>\n",
       "    </tr>\n",
       "    <tr>\n",
       "      <th>L</th>\n",
       "      <td>86</td>\n",
       "    </tr>\n",
       "    <tr>\n",
       "      <th>SE</th>\n",
       "      <th>L</th>\n",
       "      <td>72</td>\n",
       "    </tr>\n",
       "    <tr>\n",
       "      <th rowspan=\"3\" valign=\"top\">EN</th>\n",
       "      <th>M</th>\n",
       "      <td>30</td>\n",
       "    </tr>\n",
       "    <tr>\n",
       "      <th>L</th>\n",
       "      <td>29</td>\n",
       "    </tr>\n",
       "    <tr>\n",
       "      <th>S</th>\n",
       "      <td>29</td>\n",
       "    </tr>\n",
       "    <tr>\n",
       "      <th>MI</th>\n",
       "      <th>S</th>\n",
       "      <td>29</td>\n",
       "    </tr>\n",
       "    <tr>\n",
       "      <th>SE</th>\n",
       "      <th>S</th>\n",
       "      <td>22</td>\n",
       "    </tr>\n",
       "    <tr>\n",
       "      <th rowspan=\"3\" valign=\"top\">EX</th>\n",
       "      <th>M</th>\n",
       "      <td>12</td>\n",
       "    </tr>\n",
       "    <tr>\n",
       "      <th>L</th>\n",
       "      <td>11</td>\n",
       "    </tr>\n",
       "    <tr>\n",
       "      <th>S</th>\n",
       "      <td>3</td>\n",
       "    </tr>\n",
       "  </tbody>\n",
       "</table>\n",
       "</div>"
      ],
      "text/plain": [
       "                               job_title\n",
       "experience_level company_size           \n",
       "SE               M                   186\n",
       "MI               M                    98\n",
       "                 L                    86\n",
       "SE               L                    72\n",
       "EN               M                    30\n",
       "                 L                    29\n",
       "                 S                    29\n",
       "MI               S                    29\n",
       "SE               S                    22\n",
       "EX               M                    12\n",
       "                 L                    11\n",
       "                 S                     3"
      ]
     },
     "execution_count": 20,
     "metadata": {},
     "output_type": "execute_result"
    }
   ],
   "source": [
    "df.groupby(['experience_level','company_size'])[['job_title']].count().sort_values(by='job_title',ascending=False)"
   ]
  },
  {
   "cell_type": "markdown",
   "metadata": {},
   "source": [
    "* There are equal number of job roles for freshers in all kinds of companies i.e large , small and medium companies\n",
    "* There are more job vacancies in a medium level company for an experienced employees that to intermediate senior  level employees"
   ]
  },
  {
   "cell_type": "code",
   "execution_count": 21,
   "metadata": {},
   "outputs": [],
   "source": [
    "# numerical - categorical"
   ]
  },
  {
   "cell_type": "code",
   "execution_count": 22,
   "metadata": {},
   "outputs": [
    {
     "data": {
      "text/html": [
       "<div>\n",
       "<style scoped>\n",
       "    .dataframe tbody tr th:only-of-type {\n",
       "        vertical-align: middle;\n",
       "    }\n",
       "\n",
       "    .dataframe tbody tr th {\n",
       "        vertical-align: top;\n",
       "    }\n",
       "\n",
       "    .dataframe thead th {\n",
       "        text-align: right;\n",
       "    }\n",
       "</style>\n",
       "<table border=\"1\" class=\"dataframe\">\n",
       "  <thead>\n",
       "    <tr style=\"text-align: right;\">\n",
       "      <th></th>\n",
       "      <th></th>\n",
       "      <th>salary_in_usd</th>\n",
       "    </tr>\n",
       "    <tr>\n",
       "      <th>experience_level</th>\n",
       "      <th>remote_ratio</th>\n",
       "      <th></th>\n",
       "    </tr>\n",
       "  </thead>\n",
       "  <tbody>\n",
       "    <tr>\n",
       "      <th rowspan=\"3\" valign=\"top\">EN</th>\n",
       "      <th>0</th>\n",
       "      <td>57666.357143</td>\n",
       "    </tr>\n",
       "    <tr>\n",
       "      <th>50</th>\n",
       "      <td>60099.280000</td>\n",
       "    </tr>\n",
       "    <tr>\n",
       "      <th>100</th>\n",
       "      <td>63567.367347</td>\n",
       "    </tr>\n",
       "    <tr>\n",
       "      <th rowspan=\"3\" valign=\"top\">EX</th>\n",
       "      <th>0</th>\n",
       "      <td>158948.666667</td>\n",
       "    </tr>\n",
       "    <tr>\n",
       "      <th>50</th>\n",
       "      <td>143175.400000</td>\n",
       "    </tr>\n",
       "    <tr>\n",
       "      <th>100</th>\n",
       "      <td>221748.333333</td>\n",
       "    </tr>\n",
       "    <tr>\n",
       "      <th rowspan=\"3\" valign=\"top\">MI</th>\n",
       "      <th>0</th>\n",
       "      <td>82129.696429</td>\n",
       "    </tr>\n",
       "    <tr>\n",
       "      <th>50</th>\n",
       "      <td>76460.642857</td>\n",
       "    </tr>\n",
       "    <tr>\n",
       "      <th>100</th>\n",
       "      <td>95065.652174</td>\n",
       "    </tr>\n",
       "    <tr>\n",
       "      <th rowspan=\"3\" valign=\"top\">SE</th>\n",
       "      <th>0</th>\n",
       "      <td>141177.759259</td>\n",
       "    </tr>\n",
       "    <tr>\n",
       "      <th>50</th>\n",
       "      <td>95250.888889</td>\n",
       "    </tr>\n",
       "    <tr>\n",
       "      <th>100</th>\n",
       "      <td>143806.376884</td>\n",
       "    </tr>\n",
       "  </tbody>\n",
       "</table>\n",
       "</div>"
      ],
      "text/plain": [
       "                               salary_in_usd\n",
       "experience_level remote_ratio               \n",
       "EN               0              57666.357143\n",
       "                 50             60099.280000\n",
       "                 100            63567.367347\n",
       "EX               0             158948.666667\n",
       "                 50            143175.400000\n",
       "                 100           221748.333333\n",
       "MI               0              82129.696429\n",
       "                 50             76460.642857\n",
       "                 100            95065.652174\n",
       "SE               0             141177.759259\n",
       "                 50             95250.888889\n",
       "                 100           143806.376884"
      ]
     },
     "execution_count": 22,
     "metadata": {},
     "output_type": "execute_result"
    }
   ],
   "source": [
    "df.groupby(['experience_level','remote_ratio'])[['salary_in_usd']].mean()"
   ]
  },
  {
   "cell_type": "markdown",
   "metadata": {},
   "source": [
    "* Generally a highest level excecutive employee will have the highest salary with highest work remote ratio"
   ]
  },
  {
   "cell_type": "code",
   "execution_count": 23,
   "metadata": {},
   "outputs": [
    {
     "data": {
      "image/png": "[encoded data removed]",
      "text/plain": [
       "<Figure size 648x360 with 1 Axes>"
      ]
     },
     "metadata": {
      "needs_background": "light"
     },
     "output_type": "display_data"
    }
   ],
   "source": [
    "top_roles = pd.Series(df.groupby('job_title')['salary_in_usd'].mean().sort_values(ascending=False)[:10])\n",
    "plt.figure(figsize=(9,5))\n",
    "plt.xticks(rotation=75)\n",
    "sns.barplot(x=top_roles.index,y=top_roles)\n",
    "plt.show()"
   ]
  },
  {
   "cell_type": "markdown",
   "metadata": {},
   "source": [
    "* These are the top roles which brings greater salaries"
   ]
  },
  {
   "cell_type": "code",
   "execution_count": 24,
   "metadata": {},
   "outputs": [
    {
     "name": "stdout",
     "output_type": "stream",
     "text": [
      "Wall time: 683 ms\n"
     ]
    },
    {
     "data": {
      "text/plain": [
       "<seaborn.axisgrid.PairGrid at 0x25c302caf40>"
      ]
     },
     "execution_count": 24,
     "metadata": {},
     "output_type": "execute_result"
    },
    {
     "data": {
      "text/plain": [
       "<Figure size 1800x1200 with 0 Axes>"
      ]
     },
     "metadata": {},
     "output_type": "display_data"
    },
    {
     "data": {
      "image/png": "[encoded data removed]",
      "text/plain": [
       "<Figure size 540x540 with 12 Axes>"
      ]
     },
     "metadata": {
      "needs_background": "light"
     },
     "output_type": "display_data"
    }
   ],
   "source": [
    "%%time\n",
    "plt.figure(dpi=300)\n",
    "sns.pairplot(df)"
   ]
  },
  {
   "cell_type": "code",
   "execution_count": 25,
   "metadata": {},
   "outputs": [],
   "source": [
    "data = df.copy()\n"
   ]
  },
  {
   "cell_type": "code",
   "execution_count": 26,
   "metadata": {},
   "outputs": [],
   "source": [
    "encoder = LabelEncoder()\n",
    "for i in ['job_title','employee_residence','company_location','company_size','experience_level']:\n",
    "    data[i] = encoder.fit_transform(data[i])"
   ]
  },
  {
   "cell_type": "code",
   "execution_count": 27,
   "metadata": {},
   "outputs": [],
   "source": [
    "#derived metrics"
   ]
  },
  {
   "cell_type": "code",
   "execution_count": 28,
   "metadata": {},
   "outputs": [],
   "source": [
    "#visulization (if any extra)"
   ]
  },
  {
   "cell_type": "markdown",
   "metadata": {},
   "source": [
    "# Feature Engineering"
   ]
  },
  {
   "cell_type": "code",
   "execution_count": 29,
   "metadata": {},
   "outputs": [],
   "source": [
    "# Feature engineering"
   ]
  },
  {
   "cell_type": "code",
   "execution_count": 30,
   "metadata": {},
   "outputs": [],
   "source": [
    "#data.drop(['company_location','work_year','salary','salary_currency','employment_type','company_location','employee_residence'],inplace=True,axis=1)"
   ]
  },
  {
   "cell_type": "code",
   "execution_count": 31,
   "metadata": {},
   "outputs": [],
   "source": [
    "inputs = data[['work_year', 'experience_level','job_title', 'employee_residence','company_location','remote_ratio']]\n",
    "target = data[['salary_in_usd']]"
   ]
  },
  {
   "cell_type": "code",
   "execution_count": 32,
   "metadata": {
    "scrolled": false
   },
   "outputs": [
    {
     "name": "stdout",
     "output_type": "stream",
     "text": [
      "work_year  ==  19.32700771805468\n",
      "experience_level  ==  5.545868724181394\n",
      "job_title  ==  5.126178451070937\n",
      "salary_in_usd  ==  26.885229177555416\n",
      "employee_residence  ==  4.170379530362058\n",
      "remote_ratio  ==  32.69386109014749\n",
      "company_location  ==  2.5612999425251215\n"
     ]
    }
   ],
   "source": [
    "inputs = data.drop('salary_in_usd',axis=1).values\n",
    "target = data[['salary_in_usd']].values\n",
    "\n",
    "for i in range(inputs.shape[1]):\n",
    "    print(data.columns[i],' == ',variance_inflation_factor(inputs,i))"
   ]
  },
  {
   "cell_type": "code",
   "execution_count": 33,
   "metadata": {},
   "outputs": [],
   "source": [
    "#Data splitting\n",
    "\n",
    "x_train,x_test,y_train,y_test = train_test_split(inputs,target)"
   ]
  },
  {
   "cell_type": "markdown",
   "metadata": {},
   "source": [
    "# Model building"
   ]
  },
  {
   "cell_type": "code",
   "execution_count": 34,
   "metadata": {},
   "outputs": [],
   "source": [
    "from sklearn.metrics import *\n",
    "metrics_df = pd.DataFrame()\n",
    "def score(y_test,pred,model):\n",
    "    dict = {\n",
    "        'model':model,\n",
    "        'MAE':mean_absolute_error(y_test,pred),\n",
    "        'MSE':mean_squared_error(y_test,pred),\n",
    "        'RMSE':np.sqrt(mean_squared_error(y_test,pred)),\n",
    "        'Explained variance score':explained_variance_score(y_test,pred),\n",
    "        'R2 score':r2_score(y_test,pred)\n",
    "    }\n",
    "    return dict"
   ]
  },
  {
   "cell_type": "code",
   "execution_count": 35,
   "metadata": {},
   "outputs": [],
   "source": [
    "lin_reg = LinearRegression(fit_intercept=True, normalize=False)\n",
    "lin_reg.fit(x_train,y_train)\n",
    "\n",
    "l_pred = lin_reg.predict(x_test)\n",
    "metrics_df = metrics_df.append(score(y_test,l_pred,'Linear Regression'),ignore_index=True)"
   ]
  },
  {
   "cell_type": "code",
   "execution_count": 36,
   "metadata": {},
   "outputs": [],
   "source": [
    "ridge_reg = Ridge(alpha=0.1, fit_intercept=True, normalize=True, solver='lsqr')\n",
    "ridge_reg.fit(x_train,y_train)\n",
    "\n",
    "r_pred = ridge_reg.predict(x_test)\n",
    "metrics_df = metrics_df.append(score(y_test,r_pred,'Ridge Regression'),ignore_index=True)"
   ]
  },
  {
   "cell_type": "code",
   "execution_count": 37,
   "metadata": {},
   "outputs": [],
   "source": [
    "lasso_reg = Lasso(alpha=10, fit_intercept=True, normalize=True)\n",
    "lasso_reg.fit(x_train,y_train)\n",
    "\n",
    "la_pred = lasso_reg.predict(x_test)\n",
    "metrics_df = metrics_df.append(score(y_test,la_pred,'Lasso Regression'),ignore_index=True)"
   ]
  },
  {
   "cell_type": "markdown",
   "metadata": {},
   "source": [
    "# Metrics"
   ]
  },
  {
   "cell_type": "code",
   "execution_count": 38,
   "metadata": {},
   "outputs": [],
   "source": [
    "#create a Data Frame showing metrics of above models"
   ]
  },
  {
   "cell_type": "code",
   "execution_count": 39,
   "metadata": {},
   "outputs": [
    {
     "data": {
      "text/html": [
       "<div>\n",
       "<style scoped>\n",
       "    .dataframe tbody tr th:only-of-type {\n",
       "        vertical-align: middle;\n",
       "    }\n",
       "\n",
       "    .dataframe tbody tr th {\n",
       "        vertical-align: top;\n",
       "    }\n",
       "\n",
       "    .dataframe thead th {\n",
       "        text-align: right;\n",
       "    }\n",
       "</style>\n",
       "<table border=\"1\" class=\"dataframe\">\n",
       "  <thead>\n",
       "    <tr style=\"text-align: right;\">\n",
       "      <th></th>\n",
       "      <th>Explained variance score</th>\n",
       "      <th>MAE</th>\n",
       "      <th>MSE</th>\n",
       "      <th>R2 score</th>\n",
       "      <th>RMSE</th>\n",
       "    </tr>\n",
       "    <tr>\n",
       "      <th>model</th>\n",
       "      <th></th>\n",
       "      <th></th>\n",
       "      <th></th>\n",
       "      <th></th>\n",
       "      <th></th>\n",
       "    </tr>\n",
       "  </thead>\n",
       "  <tbody>\n",
       "    <tr>\n",
       "      <th>Linear Regression</th>\n",
       "      <td>0.166484</td>\n",
       "      <td>45671.848937</td>\n",
       "      <td>4.691271e+09</td>\n",
       "      <td>0.164503</td>\n",
       "      <td>68492.854915</td>\n",
       "    </tr>\n",
       "    <tr>\n",
       "      <th>Ridge Regression</th>\n",
       "      <td>0.166484</td>\n",
       "      <td>45671.848937</td>\n",
       "      <td>4.691271e+09</td>\n",
       "      <td>0.164503</td>\n",
       "      <td>68492.854915</td>\n",
       "    </tr>\n",
       "    <tr>\n",
       "      <th>Lasso Regression</th>\n",
       "      <td>0.166484</td>\n",
       "      <td>45671.848937</td>\n",
       "      <td>4.691271e+09</td>\n",
       "      <td>0.164503</td>\n",
       "      <td>68492.854915</td>\n",
       "    </tr>\n",
       "  </tbody>\n",
       "</table>\n",
       "</div>"
      ],
      "text/plain": [
       "                   Explained variance score           MAE           MSE  \\\n",
       "model                                                                     \n",
       "Linear Regression                  0.166484  45671.848937  4.691271e+09   \n",
       "Ridge Regression                   0.166484  45671.848937  4.691271e+09   \n",
       "Lasso Regression                   0.166484  45671.848937  4.691271e+09   \n",
       "\n",
       "                   R2 score          RMSE  \n",
       "model                                      \n",
       "Linear Regression  0.164503  68492.854915  \n",
       "Ridge Regression   0.164503  68492.854915  \n",
       "Lasso Regression   0.164503  68492.854915  "
      ]
     },
     "execution_count": 39,
     "metadata": {},
     "output_type": "execute_result"
    }
   ],
   "source": [
    "metrics_df.set_index('model')"
   ]
  },
  {
   "cell_type": "code",
   "execution_count": 40,
   "metadata": {},
   "outputs": [],
   "source": [
    "# explain which model does it better "
   ]
  },
  {
   "cell_type": "markdown",
   "metadata": {},
   "source": [
    "* Linear regression gives good score"
   ]
  },
  {
   "cell_type": "markdown",
   "metadata": {},
   "source": [
    "# GridSearch CV"
   ]
  },
  {
   "cell_type": "code",
   "execution_count": 41,
   "metadata": {},
   "outputs": [],
   "source": [
    "# implement grid search for the best model, recommend best hyperparameters"
   ]
  },
  {
   "cell_type": "code",
   "execution_count": 42,
   "metadata": {},
   "outputs": [],
   "source": [
    "from sklearn.model_selection import RepeatedKFold\n",
    "from sklearn.model_selection import GridSearchCV"
   ]
  },
  {
   "cell_type": "code",
   "execution_count": 43,
   "metadata": {},
   "outputs": [],
   "source": [
    "# cross validation for multiple experiments\n",
    "cv = RepeatedKFold(n_splits=10, n_repeats=3, random_state=1)"
   ]
  },
  {
   "cell_type": "code",
   "execution_count": 44,
   "metadata": {},
   "outputs": [],
   "source": [
    "model_params = {\n",
    "    'linear':{\n",
    "        'model':LinearRegression(),\n",
    "        'params':{\n",
    "            'fit_intercept':[True, False],\n",
    "            'normalize':[True, False]\n",
    "        }\n",
    "    },\n",
    "    'ridge':{\n",
    "        'model':Ridge(),\n",
    "        'params':{\n",
    "            'solver':['svd', 'cholesky', 'lsqr', 'sag'],\n",
    "            'alpha': [1e-5, 1e-4, 1e-3, 1e-2, 1e-1, 1, 10, 100],\n",
    "            'fit_intercept':[True, False],\n",
    "            'normalize':[True, False]\n",
    "        }\n",
    "    },\n",
    "    'lasso' : {\n",
    "        'model':Lasso(),\n",
    "        'params':{\n",
    "           'alpha': [1e-5, 1e-4, 1e-3, 1e-2, 1e-1, 1, 10, 100],\n",
    "            'fit_intercept':[True, False],\n",
    "            'normalize':[True, False] \n",
    "        }\n",
    "    }\n",
    "}"
   ]
  },
  {
   "cell_type": "code",
   "execution_count": 45,
   "metadata": {},
   "outputs": [],
   "source": [
    "scores = []\n",
    "for model_name,mp in model_params.items():\n",
    "    clf = GridSearchCV(mp['model'],mp['params'],scoring='neg_mean_absolute_error', n_jobs=-1, cv=cv)\n",
    "    clf.fit(x_train,y_train)\n",
    "    scores.append({\n",
    "        'model':model_name,\n",
    "        'best_score' : clf.best_score_,\n",
    "        'best_params' : clf.best_params_\n",
    "    })"
   ]
  },
  {
   "cell_type": "code",
   "execution_count": 46,
   "metadata": {},
   "outputs": [
    {
     "data": {
      "text/html": [
       "<div>\n",
       "<style scoped>\n",
       "    .dataframe tbody tr th:only-of-type {\n",
       "        vertical-align: middle;\n",
       "    }\n",
       "\n",
       "    .dataframe tbody tr th {\n",
       "        vertical-align: top;\n",
       "    }\n",
       "\n",
       "    .dataframe thead th {\n",
       "        text-align: right;\n",
       "    }\n",
       "</style>\n",
       "<table border=\"1\" class=\"dataframe\">\n",
       "  <thead>\n",
       "    <tr style=\"text-align: right;\">\n",
       "      <th></th>\n",
       "      <th>model</th>\n",
       "      <th>best_score</th>\n",
       "      <th>best_params</th>\n",
       "    </tr>\n",
       "  </thead>\n",
       "  <tbody>\n",
       "    <tr>\n",
       "      <th>0</th>\n",
       "      <td>linear</td>\n",
       "      <td>-40560.706646</td>\n",
       "      <td>{'fit_intercept': False, 'normalize': True}</td>\n",
       "    </tr>\n",
       "    <tr>\n",
       "      <th>1</th>\n",
       "      <td>ridge</td>\n",
       "      <td>-40545.820325</td>\n",
       "      <td>{'alpha': 10, 'fit_intercept': False, 'normalize': True, 'solver': 'cholesky'}</td>\n",
       "    </tr>\n",
       "    <tr>\n",
       "      <th>2</th>\n",
       "      <td>lasso</td>\n",
       "      <td>-40557.950729</td>\n",
       "      <td>{'alpha': 100, 'fit_intercept': False, 'normalize': True}</td>\n",
       "    </tr>\n",
       "  </tbody>\n",
       "</table>\n",
       "</div>"
      ],
      "text/plain": [
       "    model    best_score  \\\n",
       "0  linear -40560.706646   \n",
       "1   ridge -40545.820325   \n",
       "2   lasso -40557.950729   \n",
       "\n",
       "                                                                      best_params  \n",
       "0                                     {'fit_intercept': False, 'normalize': True}  \n",
       "1  {'alpha': 10, 'fit_intercept': False, 'normalize': True, 'solver': 'cholesky'}  \n",
       "2                       {'alpha': 100, 'fit_intercept': False, 'normalize': True}  "
      ]
     },
     "execution_count": 46,
     "metadata": {},
     "output_type": "execute_result"
    }
   ],
   "source": [
    "scores_df = pd.DataFrame(scores)\n",
    "pd.set_option('max_colwidth', 1000)\n",
    "scores_df"
   ]
  },
  {
   "cell_type": "code",
   "execution_count": null,
   "metadata": {},
   "outputs": [],
   "source": []
  }
 ],
 "metadata": {
  "kernelspec": {
   "display_name": "Python 3",
   "language": "python",
   "name": "python3"
  },
  "language_info": {
   "codemirror_mode": {
    "name": "ipython",
    "version": 3
   },
   "file_extension": ".py",
   "mimetype": "text/x-python",
   "name": "python",
   "nbconvert_exporter": "python",
   "pygments_lexer": "ipython3",
   "version": "3.8.5"
  }
 },
 "nbformat": 4,
 "nbformat_minor": 5
}
