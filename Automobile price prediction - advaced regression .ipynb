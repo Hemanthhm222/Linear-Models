{
 "cells": [
  {
   "cell_type": "code",
   "execution_count": 37,
   "metadata": {
    "scrolled": true
   },
   "outputs": [],
   "source": [
    "import pandas as pd\n",
    "import numpy as np\n",
    "import matplotlib.pyplot as plt\n",
    "import seaborn as sns\n",
    "from sklearn.preprocessing import LabelEncoder\n",
    "from tqdm import tqdm\n",
    "from sklearn.linear_model import *\n",
    "from sklearn.metrics import r2_score\n",
    "import warnings\n",
    "warnings.filterwarnings('ignore')"
   ]
  },
  {
   "cell_type": "code",
   "execution_count": 38,
   "metadata": {
    "scrolled": true
   },
   "outputs": [
    {
     "data": {
      "text/html": [
       "<div>\n",
       "<style scoped>\n",
       "    .dataframe tbody tr th:only-of-type {\n",
       "        vertical-align: middle;\n",
       "    }\n",
       "\n",
       "    .dataframe tbody tr th {\n",
       "        vertical-align: top;\n",
       "    }\n",
       "\n",
       "    .dataframe thead th {\n",
       "        text-align: right;\n",
       "    }\n",
       "</style>\n",
       "<table border=\"1\" class=\"dataframe\">\n",
       "  <thead>\n",
       "    <tr style=\"text-align: right;\">\n",
       "      <th></th>\n",
       "      <th>symboling</th>\n",
       "      <th>normalized-losses</th>\n",
       "      <th>make</th>\n",
       "      <th>fuel-type</th>\n",
       "      <th>aspiration</th>\n",
       "      <th>num-of-doors</th>\n",
       "      <th>body-style</th>\n",
       "      <th>drive-wheels</th>\n",
       "      <th>engine-location</th>\n",
       "      <th>wheel-base</th>\n",
       "      <th>...</th>\n",
       "      <th>engine-size</th>\n",
       "      <th>fuel-system</th>\n",
       "      <th>bore</th>\n",
       "      <th>stroke</th>\n",
       "      <th>compression-ratio</th>\n",
       "      <th>horsepower</th>\n",
       "      <th>peak-rpm</th>\n",
       "      <th>city-mpg</th>\n",
       "      <th>highway-mpg</th>\n",
       "      <th>price</th>\n",
       "    </tr>\n",
       "  </thead>\n",
       "  <tbody>\n",
       "    <tr>\n",
       "      <th>0</th>\n",
       "      <td>3</td>\n",
       "      <td>NaN</td>\n",
       "      <td>alfa-romero</td>\n",
       "      <td>gas</td>\n",
       "      <td>std</td>\n",
       "      <td>two</td>\n",
       "      <td>convertible</td>\n",
       "      <td>rwd</td>\n",
       "      <td>front</td>\n",
       "      <td>88.6</td>\n",
       "      <td>...</td>\n",
       "      <td>130</td>\n",
       "      <td>mpfi</td>\n",
       "      <td>3.47</td>\n",
       "      <td>2.68</td>\n",
       "      <td>9.0</td>\n",
       "      <td>111</td>\n",
       "      <td>5000</td>\n",
       "      <td>21</td>\n",
       "      <td>27</td>\n",
       "      <td>13495</td>\n",
       "    </tr>\n",
       "    <tr>\n",
       "      <th>1</th>\n",
       "      <td>3</td>\n",
       "      <td>NaN</td>\n",
       "      <td>alfa-romero</td>\n",
       "      <td>gas</td>\n",
       "      <td>std</td>\n",
       "      <td>two</td>\n",
       "      <td>convertible</td>\n",
       "      <td>rwd</td>\n",
       "      <td>front</td>\n",
       "      <td>88.6</td>\n",
       "      <td>...</td>\n",
       "      <td>130</td>\n",
       "      <td>mpfi</td>\n",
       "      <td>3.47</td>\n",
       "      <td>2.68</td>\n",
       "      <td>9.0</td>\n",
       "      <td>111</td>\n",
       "      <td>5000</td>\n",
       "      <td>21</td>\n",
       "      <td>27</td>\n",
       "      <td>16500</td>\n",
       "    </tr>\n",
       "    <tr>\n",
       "      <th>2</th>\n",
       "      <td>1</td>\n",
       "      <td>NaN</td>\n",
       "      <td>alfa-romero</td>\n",
       "      <td>gas</td>\n",
       "      <td>std</td>\n",
       "      <td>two</td>\n",
       "      <td>hatchback</td>\n",
       "      <td>rwd</td>\n",
       "      <td>front</td>\n",
       "      <td>94.5</td>\n",
       "      <td>...</td>\n",
       "      <td>152</td>\n",
       "      <td>mpfi</td>\n",
       "      <td>2.68</td>\n",
       "      <td>3.47</td>\n",
       "      <td>9.0</td>\n",
       "      <td>154</td>\n",
       "      <td>5000</td>\n",
       "      <td>19</td>\n",
       "      <td>26</td>\n",
       "      <td>16500</td>\n",
       "    </tr>\n",
       "    <tr>\n",
       "      <th>3</th>\n",
       "      <td>2</td>\n",
       "      <td>164.0</td>\n",
       "      <td>audi</td>\n",
       "      <td>gas</td>\n",
       "      <td>std</td>\n",
       "      <td>four</td>\n",
       "      <td>sedan</td>\n",
       "      <td>fwd</td>\n",
       "      <td>front</td>\n",
       "      <td>99.8</td>\n",
       "      <td>...</td>\n",
       "      <td>109</td>\n",
       "      <td>mpfi</td>\n",
       "      <td>3.19</td>\n",
       "      <td>3.4</td>\n",
       "      <td>10.0</td>\n",
       "      <td>102</td>\n",
       "      <td>5500</td>\n",
       "      <td>24</td>\n",
       "      <td>30</td>\n",
       "      <td>13950</td>\n",
       "    </tr>\n",
       "    <tr>\n",
       "      <th>4</th>\n",
       "      <td>2</td>\n",
       "      <td>164.0</td>\n",
       "      <td>audi</td>\n",
       "      <td>gas</td>\n",
       "      <td>std</td>\n",
       "      <td>four</td>\n",
       "      <td>sedan</td>\n",
       "      <td>4wd</td>\n",
       "      <td>front</td>\n",
       "      <td>99.4</td>\n",
       "      <td>...</td>\n",
       "      <td>136</td>\n",
       "      <td>mpfi</td>\n",
       "      <td>3.19</td>\n",
       "      <td>3.4</td>\n",
       "      <td>8.0</td>\n",
       "      <td>115</td>\n",
       "      <td>5500</td>\n",
       "      <td>18</td>\n",
       "      <td>22</td>\n",
       "      <td>17450</td>\n",
       "    </tr>\n",
       "  </tbody>\n",
       "</table>\n",
       "<p>5 rows × 26 columns</p>\n",
       "</div>"
      ],
      "text/plain": [
       "   symboling  normalized-losses         make fuel-type aspiration  \\\n",
       "0          3                NaN  alfa-romero       gas        std   \n",
       "1          3                NaN  alfa-romero       gas        std   \n",
       "2          1                NaN  alfa-romero       gas        std   \n",
       "3          2              164.0         audi       gas        std   \n",
       "4          2              164.0         audi       gas        std   \n",
       "\n",
       "  num-of-doors   body-style drive-wheels engine-location  wheel-base  ...  \\\n",
       "0          two  convertible          rwd           front        88.6  ...   \n",
       "1          two  convertible          rwd           front        88.6  ...   \n",
       "2          two    hatchback          rwd           front        94.5  ...   \n",
       "3         four        sedan          fwd           front        99.8  ...   \n",
       "4         four        sedan          4wd           front        99.4  ...   \n",
       "\n",
       "   engine-size  fuel-system  bore  stroke compression-ratio horsepower  \\\n",
       "0          130         mpfi  3.47    2.68               9.0        111   \n",
       "1          130         mpfi  3.47    2.68               9.0        111   \n",
       "2          152         mpfi  2.68    3.47               9.0        154   \n",
       "3          109         mpfi  3.19     3.4              10.0        102   \n",
       "4          136         mpfi  3.19     3.4               8.0        115   \n",
       "\n",
       "   peak-rpm city-mpg highway-mpg  price  \n",
       "0      5000       21          27  13495  \n",
       "1      5000       21          27  16500  \n",
       "2      5000       19          26  16500  \n",
       "3      5500       24          30  13950  \n",
       "4      5500       18          22  17450  \n",
       "\n",
       "[5 rows x 26 columns]"
      ]
     },
     "execution_count": 38,
     "metadata": {},
     "output_type": "execute_result"
    }
   ],
   "source": [
    "df = pd.read_csv(r\"C:\\Users\\heman\\Downloads\\automobile (2).csv\")\n",
    "df.head()"
   ]
  },
  {
   "cell_type": "code",
   "execution_count": 39,
   "metadata": {},
   "outputs": [],
   "source": [
    "num_cols = [i for i in df.columns if df[i].dtype!='O']"
   ]
  },
  {
   "cell_type": "code",
   "execution_count": 40,
   "metadata": {},
   "outputs": [
    {
     "data": {
      "text/plain": [
       "['symboling',\n",
       " 'normalized-losses',\n",
       " 'wheel-base',\n",
       " 'length',\n",
       " 'width',\n",
       " 'height',\n",
       " 'curb-weight',\n",
       " 'engine-size',\n",
       " 'compression-ratio',\n",
       " 'city-mpg',\n",
       " 'highway-mpg',\n",
       " 'price']"
      ]
     },
     "execution_count": 40,
     "metadata": {},
     "output_type": "execute_result"
    }
   ],
   "source": [
    "num_cols"
   ]
  },
  {
   "cell_type": "code",
   "execution_count": 41,
   "metadata": {},
   "outputs": [
    {
     "data": {
      "image/png": "[encoded data removed]",
      "text/plain": [
       "<Figure size 432x288 with 1 Axes>"
      ]
     },
     "metadata": {
      "needs_background": "light"
     },
     "output_type": "display_data"
    },
    {
     "data": {
      "image/png": "[encoded data removed]",
      "text/plain": [
       "<Figure size 432x288 with 1 Axes>"
      ]
     },
     "metadata": {
      "needs_background": "light"
     },
     "output_type": "display_data"
    },
    {
     "data": {
      "image/png": "[encoded data removed]",
      "text/plain": [
       "<Figure size 432x288 with 1 Axes>"
      ]
     },
     "metadata": {
      "needs_background": "light"
     },
     "output_type": "display_data"
    },
    {
     "data": {
      "image/png": "[encoded data removed]",
      "text/plain": [
       "<Figure size 432x288 with 1 Axes>"
      ]
     },
     "metadata": {
      "needs_background": "light"
     },
     "output_type": "display_data"
    },
    {
     "data": {
      "image/png": "[encoded data removed]",
      "text/plain": [
       "<Figure size 432x288 with 1 Axes>"
      ]
     },
     "metadata": {
      "needs_background": "light"
     },
     "output_type": "display_data"
    },
    {
     "data": {
      "image/png": "[encoded data removed]",
      "text/plain": [
       "<Figure size 432x288 with 1 Axes>"
      ]
     },
     "metadata": {
      "needs_background": "light"
     },
     "output_type": "display_data"
    },
    {
     "data": {
      "image/png": "[encoded data removed]",
      "text/plain": [
       "<Figure size 432x288 with 1 Axes>"
      ]
     },
     "metadata": {
      "needs_background": "light"
     },
     "output_type": "display_data"
    },
    {
     "data": {
      "image/png": "[encoded data removed]",
      "text/plain": [
       "<Figure size 432x288 with 1 Axes>"
      ]
     },
     "metadata": {
      "needs_background": "light"
     },
     "output_type": "display_data"
    },
    {
     "data": {
      "image/png": "[encoded data removed]",
      "text/plain": [
       "<Figure size 432x288 with 1 Axes>"
      ]
     },
     "metadata": {
      "needs_background": "light"
     },
     "output_type": "display_data"
    },
    {
     "data": {
      "image/png": "[encoded data removed]",
      "text/plain": [
       "<Figure size 432x288 with 1 Axes>"
      ]
     },
     "metadata": {
      "needs_background": "light"
     },
     "output_type": "display_data"
    },
    {
     "data": {
      "image/png": "[encoded data removed]",
      "text/plain": [
       "<Figure size 432x288 with 1 Axes>"
      ]
     },
     "metadata": {
      "needs_background": "light"
     },
     "output_type": "display_data"
    },
    {
     "data": {
      "image/png": "[encoded data removed]",
      "text/plain": [
       "<Figure size 432x288 with 1 Axes>"
      ]
     },
     "metadata": {
      "needs_background": "light"
     },
     "output_type": "display_data"
    }
   ],
   "source": [
    "for i in num_cols:\n",
    "    iqr = df[i].quantile(0.75) - df[i].quantile(0.25)\n",
    "    higher = df[i].quantile(0.9)\n",
    "    lower = df[i].quantile(0.1)\n",
    "    lower_range = df[i].quantile(0.25) - (iqr*1.5)\n",
    "    higher_range = df[i].quantile(0.75) + (iqr*1.5)\n",
    "    df[i] = np.where(df[i] > higher_range,higher,df[i])\n",
    "    df[i] = np.where(df[i] < lower_range,lower,df[i])  \n",
    "    plt.boxplot(df[i])\n",
    "    plt.show()"
   ]
  },
  {
   "cell_type": "code",
   "execution_count": 42,
   "metadata": {},
   "outputs": [
    {
     "data": {
      "text/plain": [
       "symboling             0.000000\n",
       "normalized-losses    18.316832\n",
       "make                  0.000000\n",
       "fuel-type             0.000000\n",
       "aspiration            0.000000\n",
       "num-of-doors          0.990099\n",
       "body-style            0.000000\n",
       "drive-wheels          0.000000\n",
       "engine-location       0.000000\n",
       "wheel-base            0.000000\n",
       "length                0.000000\n",
       "width                 0.000000\n",
       "height                0.000000\n",
       "curb-weight           0.000000\n",
       "engine-type           0.000000\n",
       "num-of-cylinders      0.000000\n",
       "engine-size           0.000000\n",
       "fuel-system           0.000000\n",
       "bore                  0.000000\n",
       "stroke                0.000000\n",
       "compression-ratio     0.000000\n",
       "horsepower            0.000000\n",
       "peak-rpm              0.000000\n",
       "city-mpg              0.000000\n",
       "highway-mpg           0.000000\n",
       "price                 0.000000\n",
       "dtype: float64"
      ]
     },
     "execution_count": 42,
     "metadata": {},
     "output_type": "execute_result"
    }
   ],
   "source": [
    "df.isnull().mean()*100"
   ]
  },
  {
   "cell_type": "code",
   "execution_count": 43,
   "metadata": {
    "scrolled": true
   },
   "outputs": [],
   "source": [
    "df['normalized-losses'].fillna(df['normalized-losses'].median(),inplace=True)"
   ]
  },
  {
   "cell_type": "code",
   "execution_count": 44,
   "metadata": {
    "scrolled": true
   },
   "outputs": [
    {
     "data": {
      "text/plain": [
       "0.0"
      ]
     },
     "execution_count": 44,
     "metadata": {},
     "output_type": "execute_result"
    }
   ],
   "source": [
    "df['normalized-losses'].isnull().mean()*100"
   ]
  },
  {
   "cell_type": "code",
   "execution_count": 45,
   "metadata": {},
   "outputs": [
    {
     "name": "stdout",
     "output_type": "stream",
     "text": [
      "<class 'pandas.core.frame.DataFrame'>\n",
      "RangeIndex: 202 entries, 0 to 201\n",
      "Data columns (total 26 columns):\n",
      " #   Column             Non-Null Count  Dtype  \n",
      "---  ------             --------------  -----  \n",
      " 0   symboling          202 non-null    float64\n",
      " 1   normalized-losses  202 non-null    float64\n",
      " 2   make               202 non-null    object \n",
      " 3   fuel-type          202 non-null    object \n",
      " 4   aspiration         202 non-null    object \n",
      " 5   num-of-doors       200 non-null    object \n",
      " 6   body-style         202 non-null    object \n",
      " 7   drive-wheels       202 non-null    object \n",
      " 8   engine-location    202 non-null    object \n",
      " 9   wheel-base         202 non-null    float64\n",
      " 10  length             202 non-null    float64\n",
      " 11  width              202 non-null    float64\n",
      " 12  height             202 non-null    float64\n",
      " 13  curb-weight        202 non-null    float64\n",
      " 14  engine-type        202 non-null    object \n",
      " 15  num-of-cylinders   202 non-null    object \n",
      " 16  engine-size        202 non-null    float64\n",
      " 17  fuel-system        202 non-null    object \n",
      " 18  bore               202 non-null    object \n",
      " 19  stroke             202 non-null    object \n",
      " 20  compression-ratio  202 non-null    float64\n",
      " 21  horsepower         202 non-null    object \n",
      " 22  peak-rpm           202 non-null    object \n",
      " 23  city-mpg           202 non-null    float64\n",
      " 24  highway-mpg        202 non-null    float64\n",
      " 25  price              202 non-null    float64\n",
      "dtypes: float64(12), object(14)\n",
      "memory usage: 41.2+ KB\n"
     ]
    }
   ],
   "source": [
    "df.info()"
   ]
  },
  {
   "cell_type": "code",
   "execution_count": 46,
   "metadata": {
    "scrolled": true
   },
   "outputs": [],
   "source": [
    "cat_cols = [i for i in df.columns.tolist() if df[i].dtype=='O']"
   ]
  },
  {
   "cell_type": "code",
   "execution_count": 47,
   "metadata": {
    "scrolled": true
   },
   "outputs": [
    {
     "data": {
      "text/plain": [
       "14"
      ]
     },
     "execution_count": 47,
     "metadata": {},
     "output_type": "execute_result"
    }
   ],
   "source": [
    "len(cat_cols)"
   ]
  },
  {
   "cell_type": "code",
   "execution_count": 48,
   "metadata": {
    "scrolled": true
   },
   "outputs": [],
   "source": [
    "for i in cat_cols:\n",
    "    df[i] = LabelEncoder().fit_transform(df[i])"
   ]
  },
  {
   "cell_type": "code",
   "execution_count": 49,
   "metadata": {
    "scrolled": true
   },
   "outputs": [],
   "source": [
    "import statsmodels.api as sm"
   ]
  },
  {
   "cell_type": "code",
   "execution_count": 50,
   "metadata": {
    "scrolled": true
   },
   "outputs": [],
   "source": [
    "#df.corr().iloc[:,[-1]]"
   ]
  },
  {
   "cell_type": "code",
   "execution_count": 51,
   "metadata": {
    "scrolled": true
   },
   "outputs": [],
   "source": [
    "df.drop(['symboling','num-of-cylinders','curb-weight','city-mpg','normalized-losses','fuel-system','length','compression-ratio','wheel-base','engine-type','highway-mpg','peak-rpm','bore','aspiration','num-of-doors','body-style'],inplace=True,axis=1)"
   ]
  },
  {
   "cell_type": "code",
   "execution_count": 52,
   "metadata": {
    "scrolled": true
   },
   "outputs": [],
   "source": [
    "target = df[['price']]\n",
    "inputs = df.drop('price',axis=1)"
   ]
  },
  {
   "cell_type": "code",
   "execution_count": 53,
   "metadata": {},
   "outputs": [
    {
     "data": {
      "text/html": [
       "<table class=\"simpletable\">\n",
       "<caption>OLS Regression Results</caption>\n",
       "<tr>\n",
       "  <th>Dep. Variable:</th>          <td>price</td>      <th>  R-squared:         </th> <td>   0.870</td>\n",
       "</tr>\n",
       "<tr>\n",
       "  <th>Model:</th>                   <td>OLS</td>       <th>  Adj. R-squared:    </th> <td>   0.864</td>\n",
       "</tr>\n",
       "<tr>\n",
       "  <th>Method:</th>             <td>Least Squares</td>  <th>  F-statistic:       </th> <td>   142.6</td>\n",
       "</tr>\n",
       "<tr>\n",
       "  <th>Date:</th>             <td>Fri, 10 Jun 2022</td> <th>  Prob (F-statistic):</th> <td>4.77e-80</td>\n",
       "</tr>\n",
       "<tr>\n",
       "  <th>Time:</th>                 <td>18:41:51</td>     <th>  Log-Likelihood:    </th> <td> -1823.9</td>\n",
       "</tr>\n",
       "<tr>\n",
       "  <th>No. Observations:</th>      <td>   202</td>      <th>  AIC:               </th> <td>   3668.</td>\n",
       "</tr>\n",
       "<tr>\n",
       "  <th>Df Residuals:</th>          <td>   192</td>      <th>  BIC:               </th> <td>   3701.</td>\n",
       "</tr>\n",
       "<tr>\n",
       "  <th>Df Model:</th>              <td>     9</td>      <th>                     </th>     <td> </td>   \n",
       "</tr>\n",
       "<tr>\n",
       "  <th>Covariance Type:</th>      <td>nonrobust</td>    <th>                     </th>     <td> </td>   \n",
       "</tr>\n",
       "</table>\n",
       "<table class=\"simpletable\">\n",
       "<tr>\n",
       "    <td></td>       <th>coef</th>     <th>std err</th>      <th>t</th>      <th>P>|t|</th>  <th>[0.025</th>    <th>0.975]</th>  \n",
       "</tr>\n",
       "<tr>\n",
       "  <th>const</th> <td>-9.255e+04</td> <td> 8115.202</td> <td>  -11.405</td> <td> 0.000</td> <td>-1.09e+05</td> <td>-7.65e+04</td>\n",
       "</tr>\n",
       "<tr>\n",
       "  <th>x1</th>    <td> -157.5371</td> <td>   25.053</td> <td>   -6.288</td> <td> 0.000</td> <td> -206.952</td> <td> -108.122</td>\n",
       "</tr>\n",
       "<tr>\n",
       "  <th>x2</th>    <td> -864.8986</td> <td>  550.839</td> <td>   -1.570</td> <td> 0.118</td> <td>-1951.372</td> <td>  221.575</td>\n",
       "</tr>\n",
       "<tr>\n",
       "  <th>x3</th>    <td> 1632.7555</td> <td>  336.890</td> <td>    4.847</td> <td> 0.000</td> <td>  968.276</td> <td> 2297.235</td>\n",
       "</tr>\n",
       "<tr>\n",
       "  <th>x4</th>    <td> 6922.0953</td> <td> 1406.679</td> <td>    4.921</td> <td> 0.000</td> <td> 4147.567</td> <td> 9696.624</td>\n",
       "</tr>\n",
       "<tr>\n",
       "  <th>x5</th>    <td> 1355.5342</td> <td>  133.414</td> <td>   10.160</td> <td> 0.000</td> <td> 1092.389</td> <td> 1618.679</td>\n",
       "</tr>\n",
       "<tr>\n",
       "  <th>x6</th>    <td>  241.9060</td> <td>   69.272</td> <td>    3.492</td> <td> 0.001</td> <td>  105.275</td> <td>  378.537</td>\n",
       "</tr>\n",
       "<tr>\n",
       "  <th>x7</th>    <td>   52.6355</td> <td>    8.205</td> <td>    6.415</td> <td> 0.000</td> <td>   36.452</td> <td>   68.818</td>\n",
       "</tr>\n",
       "<tr>\n",
       "  <th>x8</th>    <td>  -66.0104</td> <td>   18.671</td> <td>   -3.535</td> <td> 0.001</td> <td> -102.837</td> <td>  -29.184</td>\n",
       "</tr>\n",
       "<tr>\n",
       "  <th>x9</th>    <td>  -66.8760</td> <td>    8.718</td> <td>   -7.671</td> <td> 0.000</td> <td>  -84.072</td> <td>  -49.680</td>\n",
       "</tr>\n",
       "</table>\n",
       "<table class=\"simpletable\">\n",
       "<tr>\n",
       "  <th>Omnibus:</th>       <td> 5.782</td> <th>  Durbin-Watson:     </th> <td>   1.203</td>\n",
       "</tr>\n",
       "<tr>\n",
       "  <th>Prob(Omnibus):</th> <td> 0.056</td> <th>  Jarque-Bera (JB):  </th> <td>   5.412</td>\n",
       "</tr>\n",
       "<tr>\n",
       "  <th>Skew:</th>          <td> 0.373</td> <th>  Prob(JB):          </th> <td>  0.0668</td>\n",
       "</tr>\n",
       "<tr>\n",
       "  <th>Kurtosis:</th>      <td> 3.296</td> <th>  Cond. No.          </th> <td>8.75e+03</td>\n",
       "</tr>\n",
       "</table><br/><br/>Notes:<br/>[1] Standard Errors assume that the covariance matrix of the errors is correctly specified.<br/>[2] The condition number is large, 8.75e+03. This might indicate that there are<br/>strong multicollinearity or other numerical problems."
      ],
      "text/plain": [
       "<class 'statsmodels.iolib.summary.Summary'>\n",
       "\"\"\"\n",
       "                            OLS Regression Results                            \n",
       "==============================================================================\n",
       "Dep. Variable:                  price   R-squared:                       0.870\n",
       "Model:                            OLS   Adj. R-squared:                  0.864\n",
       "Method:                 Least Squares   F-statistic:                     142.6\n",
       "Date:                Fri, 10 Jun 2022   Prob (F-statistic):           4.77e-80\n",
       "Time:                        18:41:51   Log-Likelihood:                -1823.9\n",
       "No. Observations:                 202   AIC:                             3668.\n",
       "Df Residuals:                     192   BIC:                             3701.\n",
       "Df Model:                           9                                         \n",
       "Covariance Type:            nonrobust                                         \n",
       "==============================================================================\n",
       "                 coef    std err          t      P>|t|      [0.025      0.975]\n",
       "------------------------------------------------------------------------------\n",
       "const      -9.255e+04   8115.202    -11.405      0.000   -1.09e+05   -7.65e+04\n",
       "x1          -157.5371     25.053     -6.288      0.000    -206.952    -108.122\n",
       "x2          -864.8986    550.839     -1.570      0.118   -1951.372     221.575\n",
       "x3          1632.7555    336.890      4.847      0.000     968.276    2297.235\n",
       "x4          6922.0953   1406.679      4.921      0.000    4147.567    9696.624\n",
       "x5          1355.5342    133.414     10.160      0.000    1092.389    1618.679\n",
       "x6           241.9060     69.272      3.492      0.001     105.275     378.537\n",
       "x7            52.6355      8.205      6.415      0.000      36.452      68.818\n",
       "x8           -66.0104     18.671     -3.535      0.001    -102.837     -29.184\n",
       "x9           -66.8760      8.718     -7.671      0.000     -84.072     -49.680\n",
       "==============================================================================\n",
       "Omnibus:                        5.782   Durbin-Watson:                   1.203\n",
       "Prob(Omnibus):                  0.056   Jarque-Bera (JB):                5.412\n",
       "Skew:                           0.373   Prob(JB):                       0.0668\n",
       "Kurtosis:                       3.296   Cond. No.                     8.75e+03\n",
       "==============================================================================\n",
       "\n",
       "Notes:\n",
       "[1] Standard Errors assume that the covariance matrix of the errors is correctly specified.\n",
       "[2] The condition number is large, 8.75e+03. This might indicate that there are\n",
       "strong multicollinearity or other numerical problems.\n",
       "\"\"\""
      ]
     },
     "execution_count": 53,
     "metadata": {},
     "output_type": "execute_result"
    }
   ],
   "source": [
    "intercept = np.ones((inputs.shape[0],1))\n",
    "\n",
    "inputs = np.hstack([intercept,inputs])\n",
    "x = np.delete(inputs,5,axis=1)\n",
    "\n",
    "model = sm.OLS(target,inputs).fit()\n",
    "\n",
    "model.summary()"
   ]
  },
  {
   "cell_type": "code",
   "execution_count": 54,
   "metadata": {
    "scrolled": true
   },
   "outputs": [
    {
     "name": "stdout",
     "output_type": "stream",
     "text": [
      "0 3103.2419343791994\n",
      "1 1.156047731349313\n",
      "2 1.2754552513353299\n",
      "3 1.6178769655427836\n",
      "4 1.3642016259692458\n",
      "5 2.9129672752685924\n",
      "6 1.3447682079563428\n",
      "7 2.9949658902906084\n",
      "8 1.3032707339906402\n",
      "9 1.19226179489487\n"
     ]
    }
   ],
   "source": [
    "from statsmodels.stats.outliers_influence import variance_inflation_factor\n",
    "for i in range(inputs.shape[1]):\n",
    "    print(i,variance_inflation_factor(inputs,i))"
   ]
  },
  {
   "cell_type": "markdown",
   "metadata": {
    "scrolled": true
   },
   "source": [
    "## LINEAR REGRESSION\n"
   ]
  },
  {
   "cell_type": "code",
   "execution_count": 55,
   "metadata": {
    "scrolled": true
   },
   "outputs": [
    {
     "data": {
      "text/plain": [
       "(202, 10)"
      ]
     },
     "execution_count": 55,
     "metadata": {},
     "output_type": "execute_result"
    }
   ],
   "source": [
    "df.shape"
   ]
  },
  {
   "cell_type": "code",
   "execution_count": 56,
   "metadata": {
    "scrolled": true
   },
   "outputs": [],
   "source": [
    "target = df[['price']]\n",
    "inputs = df.drop('price',axis=1)\n",
    "x = np.random.random((9,1))\n",
    "c = np.random.random()\n",
    "lr = 0.0000001"
   ]
  },
  {
   "cell_type": "code",
   "execution_count": 57,
   "metadata": {
    "scrolled": true
   },
   "outputs": [
    {
     "name": "stderr",
     "output_type": "stream",
     "text": [
      "100%|█████████████████████████████████████████████████████████████████████████████| 2000/2000 [00:03<00:00, 611.45it/s]\n"
     ]
    }
   ],
   "source": [
    "costs = []\n",
    "for i in tqdm(range(2000)):\n",
    "    prediction = np.dot(inputs,x)\n",
    "    loss = target - prediction\n",
    "    cost = np.sum((prediction - target)**2)\n",
    "    costs.append(cost)\n",
    "    gradient = 2*np.dot(inputs.T,loss) / df.shape[0]\n",
    "    x = x - lr * -gradient"
   ]
  },
  {
   "cell_type": "code",
   "execution_count": 58,
   "metadata": {
    "scrolled": true
   },
   "outputs": [
    {
     "data": {
      "text/plain": [
       "[<matplotlib.lines.Line2D at 0x1ab5bab1a00>]"
      ]
     },
     "execution_count": 58,
     "metadata": {},
     "output_type": "execute_result"
    },
    {
     "data": {
      "image/png": "[encoded data removed]",
      "text/plain": [
       "<Figure size 432x288 with 1 Axes>"
      ]
     },
     "metadata": {
      "needs_background": "light"
     },
     "output_type": "display_data"
    }
   ],
   "source": [
    "plt.plot(range(2000),costs)"
   ]
  },
  {
   "cell_type": "code",
   "execution_count": 59,
   "metadata": {
    "scrolled": true
   },
   "outputs": [
    {
     "data": {
      "text/plain": [
       "price    13495.0\n",
       "Name: 0, dtype: float64"
      ]
     },
     "execution_count": 59,
     "metadata": {},
     "output_type": "execute_result"
    }
   ],
   "source": [
    "target.iloc[0]"
   ]
  },
  {
   "cell_type": "code",
   "execution_count": 60,
   "metadata": {
    "scrolled": true
   },
   "outputs": [],
   "source": [
    "def cost_function(prediction,target,sample_size):\n",
    "    return  np.sqrt(np.sum((prediction - target)**2) / sample_size)"
   ]
  },
  {
   "cell_type": "code",
   "execution_count": 61,
   "metadata": {
    "scrolled": true
   },
   "outputs": [],
   "source": [
    "reg_table = {}\n",
    "manual_calc = []\n",
    "sklearn_calc = []"
   ]
  },
  {
   "cell_type": "code",
   "execution_count": 62,
   "metadata": {
    "scrolled": true
   },
   "outputs": [
    {
     "data": {
      "text/plain": [
       "13495.0"
      ]
     },
     "execution_count": 62,
     "metadata": {},
     "output_type": "execute_result"
    }
   ],
   "source": [
    "target.loc[0][0]"
   ]
  },
  {
   "cell_type": "code",
   "execution_count": 64,
   "metadata": {
    "scrolled": true
   },
   "outputs": [
    {
     "name": "stdout",
     "output_type": "stream",
     "text": [
      "LinearRegression()\n",
      "manual calc [14198.8750528]\n",
      "sklearn calc [[14787.2902945]]\n",
      "target 13495.0\n",
      "[3851.107713466687, 2018.5620562961205]\n"
     ]
    },
    {
     "data": {
      "text/plain": [
       "0.8698697887797231"
      ]
     },
     "execution_count": 64,
     "metadata": {},
     "output_type": "execute_result"
    }
   ],
   "source": [
    "reg = LinearRegression()\n",
    "print(reg)\n",
    "reg.fit(inputs,target)\n",
    "print('manual calc',np.dot(inputs,x)[-1])\n",
    "manual_calc.append(np.dot(inputs,x)[-1])\n",
    "print('sklearn calc',reg.predict([inputs.iloc[0].values]))\n",
    "sklearn_calc.append(reg.predict([inputs.iloc[0].values]))\n",
    "print('target',target.loc[0][0])\n",
    "print([cost_function(np.dot(inputs,x),target,df.shape[0])[0],cost_function(reg.predict(inputs.values),target,df.shape[0])[0]])\n",
    "r2_score(target,reg.predict(inputs))"
   ]
  },
  {
   "cell_type": "code",
   "execution_count": 65,
   "metadata": {
    "scrolled": true
   },
   "outputs": [
    {
     "name": "stdout",
     "output_type": "stream",
     "text": [
      "Ridge()\n",
      "manual calc [14198.8750528]\n",
      "sklearn calc [[15036.40469825]]\n",
      "target 13495.0\n",
      "[3851.107713466687, 2031.3349776894454]\n"
     ]
    },
    {
     "data": {
      "text/plain": [
       "0.8682177199202129"
      ]
     },
     "execution_count": 65,
     "metadata": {},
     "output_type": "execute_result"
    }
   ],
   "source": [
    "reg = Ridge()\n",
    "print(reg)\n",
    "reg.fit(inputs,target)\n",
    "print('manual calc',np.dot(inputs,x)[-1])\n",
    "manual_calc.append(np.dot(inputs,x)[-1])\n",
    "print('sklearn calc',reg.predict([inputs.iloc[0].values]))\n",
    "sklearn_calc.append(reg.predict([inputs.iloc[0].values]))\n",
    "print('target',target.loc[0][0])\n",
    "print([cost_function(np.dot(inputs,x),target,df.shape[0])[0],cost_function(reg.predict(inputs.values),target,df.shape[0])[0]])\n",
    "r2_score(target,reg.predict(inputs))"
   ]
  },
  {
   "cell_type": "code",
   "execution_count": 66,
   "metadata": {
    "scrolled": false
   },
   "outputs": [
    {
     "name": "stdout",
     "output_type": "stream",
     "text": [
      "MultiTaskLasso()\n",
      "manual calc [14198.8750528]\n",
      "sklearn calc [[14792.80012809]]\n",
      "target 13495.0\n",
      "[3851.107713466687, 2018.588962559046]\n"
     ]
    },
    {
     "data": {
      "text/plain": [
       "0.8698663196359313"
      ]
     },
     "execution_count": 66,
     "metadata": {},
     "output_type": "execute_result"
    }
   ],
   "source": [
    "reg = MultiTaskLasso()\n",
    "print(reg)\n",
    "reg.fit(inputs,target)\n",
    "print('manual calc',np.dot(inputs,x)[-1])\n",
    "manual_calc.append(np.dot(inputs,x)[-1])\n",
    "print('sklearn calc',reg.predict([inputs.iloc[0].values]))\n",
    "sklearn_calc.append(reg.predict([inputs.iloc[0].values]))\n",
    "print('target',target.loc[0][0])\n",
    "print([cost_function(np.dot(inputs,x),target,df.shape[0])[0],cost_function(reg.predict(inputs.values),target,df.shape[0])[0]])\n",
    "r2_score(target,reg.predict(inputs))"
   ]
  },
  {
   "cell_type": "code",
   "execution_count": 72,
   "metadata": {},
   "outputs": [
    {
     "name": "stdout",
     "output_type": "stream",
     "text": [
      "BayesianRidge()\n",
      "manual calc [14198.8750528]\n",
      "sklearn calc [15159.96001692]\n",
      "target 13495.0\n",
      "0.8657843211058686\n"
     ]
    }
   ],
   "source": [
    "reg = BayesianRidge()\n",
    "print(reg)\n",
    "reg.fit(inputs,target)\n",
    "print('manual calc',np.dot(inputs,x)[-1])\n",
    "manual_calc.append(np.dot(inputs,x)[-1])\n",
    "print('sklearn calc',reg.predict([inputs.iloc[0].values]))\n",
    "sklearn_calc.append(reg.predict([inputs.iloc[0].values]))\n",
    "print('target',target.loc[0][0])\n",
    "print(r2_score(target,reg.predict(inputs)))\n",
    "#print([cost_function(np.dot(inputs,x),target,df.shape[0])[0],cost_function(reg.predict(inputs.values),target,df.shape[0])[0]])"
   ]
  },
  {
   "cell_type": "code",
   "execution_count": 73,
   "metadata": {},
   "outputs": [
    {
     "name": "stdout",
     "output_type": "stream",
     "text": [
      "TweedieRegressor()\n",
      "manual calc [14198.8750528]\n",
      "sklearn calc [15405.26681821]\n",
      "target 13495.0\n",
      "0.8062981559143312\n"
     ]
    }
   ],
   "source": [
    "reg = TweedieRegressor()\n",
    "print(reg)\n",
    "reg.fit(inputs,target)\n",
    "print('manual calc',np.dot(inputs,x)[-1])\n",
    "manual_calc.append(np.dot(inputs,x)[-1])\n",
    "print('sklearn calc',reg.predict([inputs.iloc[0].values]))\n",
    "sklearn_calc.append(reg.predict([inputs.iloc[0].values]))\n",
    "print('target',target.loc[0][0])\n",
    "print(r2_score(target,reg.predict(inputs)))\n",
    "#print([cost_function(np.dot(inputs,x),target,df.shape[0])[0],cost_function(reg.predict(inputs.values),target,df.shape[0])[0]])"
   ]
  },
  {
   "cell_type": "code",
   "execution_count": 74,
   "metadata": {},
   "outputs": [
    {
     "name": "stdout",
     "output_type": "stream",
     "text": [
      "QuantileRegressor()\n",
      "manual calc [14198.8750528]\n",
      "sklearn calc [14302.44525311]\n",
      "target 13495.0\n",
      "0.7042533693876819\n"
     ]
    }
   ],
   "source": [
    "reg = QuantileRegressor()\n",
    "print(reg)\n",
    "reg.fit(inputs,target)\n",
    "print('manual calc',np.dot(inputs,x)[-1])\n",
    "manual_calc.append(np.dot(inputs,x)[-1])\n",
    "print('sklearn calc',reg.predict([inputs.iloc[0].values]))\n",
    "sklearn_calc.append(reg.predict([inputs.iloc[0].values]))\n",
    "print('target',target.loc[0][0])\n",
    "print(r2_score(target,reg.predict(inputs)))\n",
    "#print([cost_function(np.dot(inputs,x),target,df.shape[0])[0],cost_function(reg.predict(inputs.values),target,df.shape[0])[0]])"
   ]
  },
  {
   "cell_type": "code",
   "execution_count": 75,
   "metadata": {
    "scrolled": true
   },
   "outputs": [
    {
     "data": {
      "text/plain": [
       "price    0.526303\n",
       "dtype: float64"
      ]
     },
     "execution_count": 75,
     "metadata": {},
     "output_type": "execute_result"
    }
   ],
   "source": [
    "tss = np.sum((target - target.mean()[0]) ** 2)\n",
    "rss = np.sum((prediction - target) ** 2)\n",
    "\n",
    "1 - (rss/tss)"
   ]
  },
  {
   "cell_type": "code",
   "execution_count": 76,
   "metadata": {
    "scrolled": true
   },
   "outputs": [
    {
     "data": {
      "text/plain": [
       "0.5263030581015908"
      ]
     },
     "execution_count": 76,
     "metadata": {},
     "output_type": "execute_result"
    }
   ],
   "source": [
    "from sklearn.metrics import r2_score\n",
    "\n",
    "r2_score(target,prediction)"
   ]
  },
  {
   "cell_type": "markdown",
   "metadata": {},
   "source": [
    "### Among all the regression models the noraml linear regression gives the best accuracy. \n",
    "\n",
    "### In other regression models,model is fed with greater punishment to not allow the model to overfit ."
   ]
  },
  {
   "cell_type": "code",
   "execution_count": null,
   "metadata": {},
   "outputs": [],
   "source": []
  }
 ],
 "metadata": {
  "kernelspec": {
   "display_name": "Python 3",
   "language": "python",
   "name": "python3"
  },
  "language_info": {
   "codemirror_mode": {
    "name": "ipython",
    "version": 3
   },
   "file_extension": ".py",
   "mimetype": "text/x-python",
   "name": "python",
   "nbconvert_exporter": "python",
   "pygments_lexer": "ipython3",
   "version": "3.8.5"
  }
 },
 "nbformat": 4,
 "nbformat_minor": 4
}
